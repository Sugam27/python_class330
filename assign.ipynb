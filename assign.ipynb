{
 "cells": [
  {
   "cell_type": "code",
   "execution_count": 1,
   "metadata": {},
   "outputs": [],
   "source": [
    "a = open('sugam1.csv','x')\n",
    "a.close()"
   ]
  },
  {
   "cell_type": "code",
   "execution_count": null,
   "metadata": {},
   "outputs": [],
   "source": [
    "\n",
    "a = open('sugam1.csv','w')\n",
    "x = {}\n",
    "n = int(input(\"Enter n = \"))\n",
    "for i in range(n):\n",
    "    name = input(\"Enter name = \")\n",
    "    age = int(input(\"Age\"))\n",
    "    mobile = input(\"Enter mobile no=\")\n",
    "    address = input(\"Enter address no = \")\n",
    "    gender = input(\"Enter gender = \")\n",
    "    job = input(\"Enter job =\")\n",
    "    email = input(\"Enter email =\")\n",
    "  \n",
    "        \n",
    "    x[name] = (mobile,address,gender)\n",
    "a.close()\n"
   ]
  },
  {
   "cell_type": "code",
   "execution_count": null,
   "metadata": {},
   "outputs": [],
   "source": []
  }
 ],
 "metadata": {
  "kernelspec": {
   "display_name": "Python 3",
   "language": "python",
   "name": "python3"
  }
 },
 "nbformat": 4,
 "nbformat_minor": 4
}
